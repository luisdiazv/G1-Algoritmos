{
  "nbformat": 4,
  "nbformat_minor": 0,
  "metadata": {
    "colab": {
      "name": "Lab4Grupo[1].ipynb",
      "provenance": [],
      "include_colab_link": true
    },
    "kernelspec": {
      "name": "python3",
      "display_name": "Python 3"
    },
    "language_info": {
      "name": "python"
    }
  },
  "cells": [
    {
      "cell_type": "markdown",
      "metadata": {
        "id": "view-in-github",
        "colab_type": "text"
      },
      "source": [
        "<a href=\"https://colab.research.google.com/github/luisdiazv/G1-Algoritmos/blob/main/Lab4/Lab4Grupo%5B1%5D.ipynb\" target=\"_parent\"><img src=\"https://colab.research.google.com/assets/colab-badge.svg\" alt=\"Open In Colab\"/></a>"
      ]
    },
    {
      "cell_type": "markdown",
      "source": [
        "Fuerza bruta:"
      ],
      "metadata": {
        "id": "VkpCjUQhtWHS"
      }
    },
    {
      "cell_type": "code",
      "execution_count": null,
      "metadata": {
        "colab": {
          "base_uri": "https://localhost:8080/"
        },
        "id": "EcHwaW0-ffFA",
        "outputId": "3bddd3d6-8a61-4c38-d05d-cccd7d336078"
      },
      "outputs": [
        {
          "output_type": "stream",
          "name": "stdout",
          "text": [
            "58.4745\n"
          ]
        }
      ],
      "source": [
        "import numpy as np\n",
        "\n",
        "def f(x):\n",
        "    y=(x**5)-(59*(x**4))+(35*(x**3))-(250*(x**2))+(x)-70\n",
        "    return y\n",
        "\n",
        "for i in np.arange(-1000,1000-0.0001,0.0001).round(4):\n",
        "    if((f(i)*f(i+0.0001))<0 or f(i)==0):\n",
        "        print(i)\n"
      ]
    },
    {
      "cell_type": "markdown",
      "source": [
        "Algoritmo voraz por bisección:"
      ],
      "metadata": {
        "id": "TKhPe--7tZML"
      }
    },
    {
      "cell_type": "code",
      "source": [
        "def f(x):\n",
        "    y=(x**5)-(59*(x**4))+(35*(x**3))-(250*(x**2))+(x)-70\n",
        "    return y\n",
        "\n",
        "\n",
        "def biseccion(inicio,fin):\n",
        "\n",
        "    limInferior = inicio\n",
        "    limSuperior = fin\n",
        "\n",
        "    while (abs(limInferior-limSuperior) > (0.0001)):\n",
        "        limInferior=limSuperior\n",
        "        limSuperior=(inicio+fin)/2 \n",
        "\n",
        "        if (f(inicio)*f(limSuperior)<0):\n",
        "            fin=limSuperior\n",
        "\n",
        "        if (f(limSuperior)*f(fin)<0):\n",
        "            inicio=limSuperior\n",
        "\n",
        "    limSuperior=round(limSuperior,4)\n",
        "    print(limSuperior)\n",
        "\n",
        "biseccion(-1000,1000)"
      ],
      "metadata": {
        "colab": {
          "base_uri": "https://localhost:8080/"
        },
        "id": "S3PGwxe_flhr",
        "outputId": "41b3b205-e524-4abc-f3f4-138731d07a63"
      },
      "execution_count": null,
      "outputs": [
        {
          "output_type": "stream",
          "name": "stdout",
          "text": [
            "58.4746\n"
          ]
        }
      ]
    }
  ]
}